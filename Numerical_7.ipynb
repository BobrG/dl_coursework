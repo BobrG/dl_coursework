{
 "cells": [
  {
   "cell_type": "markdown",
   "metadata": {},
   "source": [
    "**Задача 1.**\n",
    "\n",
    "Вычислить значение интеграла $I = \\int\\limits_{1}^{1.44}P_{n}(x)dx$ где $P_{n}(x) = \\sum \\limits_{i=0}^{n} c_{i}x^{i}$, с помощью *квадратурных формул трапеций и Симпсона для элементарного отрезка интегрирования*. \n",
    "\n",
    "Оценить величину погрешности. Применяя те же квадратурные формулы для составного отрезка интегрирования, вычислить\n",
    "интеграл $I$ с точностью $\\varepsilon = 0.0001$. Предварительно оценить шаг\n",
    "интегрирования, при котором достигается заданная точность."
   ]
  },
  {
   "cell_type": "markdown",
   "metadata": {},
   "source": [
    "ПОРЯДОК РЕШЕНИЯ ЗАДАЧИ:\n",
    "\n",
    "1) Вычислить значение интеграла $I$ аналитически."
   ]
  },
  {
   "cell_type": "code",
   "execution_count": null,
   "metadata": {
    "collapsed": true
   },
   "outputs": [],
   "source": []
  },
  {
   "cell_type": "markdown",
   "metadata": {},
   "source": [
    "2) Задать многочлен $P_{n}(x)$. Вычислить значение интеграла $I$ по формулам\n",
    "трапеций и Симпсона, считая отрезок $[ 1 , 1.44 ]$ элементарным отрезком\n",
    "интегрирования."
   ]
  },
  {
   "cell_type": "code",
   "execution_count": null,
   "metadata": {
    "collapsed": true
   },
   "outputs": [],
   "source": []
  },
  {
   "cell_type": "markdown",
   "metadata": {},
   "source": [
    "3) Найти абсолютные погрешности результатов."
   ]
  },
  {
   "cell_type": "code",
   "execution_count": null,
   "metadata": {
    "collapsed": true
   },
   "outputs": [],
   "source": []
  },
  {
   "cell_type": "markdown",
   "metadata": {},
   "source": [
    "4) Используя выражение для остаточных членов интегрирования, оценить шаги интегрирования, при которых величина\n",
    "погрешности каждой квадратурной формулы будет меньше $\\varepsilon = 0.0001$."
   ]
  },
  {
   "cell_type": "code",
   "execution_count": null,
   "metadata": {
    "collapsed": true
   },
   "outputs": [],
   "source": []
  },
  {
   "cell_type": "markdown",
   "metadata": {},
   "source": [
    "5) Вычислить значения интеграла по составной квадратурной формуле с\n",
    "найденным шагом."
   ]
  },
  {
   "cell_type": "code",
   "execution_count": null,
   "metadata": {
    "collapsed": true
   },
   "outputs": [],
   "source": []
  },
  {
   "cell_type": "markdown",
   "metadata": {},
   "source": [
    "6) Найти абсолютные погрешности результатов."
   ]
  },
  {
   "cell_type": "code",
   "execution_count": null,
   "metadata": {
    "collapsed": true
   },
   "outputs": [],
   "source": []
  },
  {
   "cell_type": "markdown",
   "metadata": {},
   "source": [
    "**Задача 3.**\n",
    "\n",
    "Вычислить значение интеграла $\\int\\limits_{a}^{b}f(x)dx$ аналитически и используя формулу центральных прямоугольников, с шагами $h : \\frac{b-a}{2}, \\frac{b-a}{3}, \\dots, \\frac{b-a}{20}$. При указанных значениях $h$ найти абсолютную погрешность и оценки теоретической абсолютной погрешности. На одном чертеже построить графики найденных погрешностей.\n"
   ]
  },
  {
   "cell_type": "code",
   "execution_count": null,
   "metadata": {
    "collapsed": true
   },
   "outputs": [],
   "source": []
  }
 ],
 "metadata": {
  "anaconda-cloud": {},
  "kernelspec": {
   "display_name": "Python [default]",
   "language": "python",
   "name": "python3"
  },
  "language_info": {
   "codemirror_mode": {
    "name": "ipython",
    "version": 3
   },
   "file_extension": ".py",
   "mimetype": "text/x-python",
   "name": "python",
   "nbconvert_exporter": "python",
   "pygments_lexer": "ipython3",
   "version": "3.5.4"
  }
 },
 "nbformat": 4,
 "nbformat_minor": 1
}
